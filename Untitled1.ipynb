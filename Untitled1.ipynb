{
 "cells": [
  {
   "cell_type": "code",
   "execution_count": 1,
   "id": "fc672d1c",
   "metadata": {},
   "outputs": [
    {
     "name": "stdout",
     "output_type": "stream",
     "text": [
      "Hello Gbenga\n"
     ]
    }
   ],
   "source": [
    "print(\"Hello Gbenga\")"
   ]
  },
  {
   "cell_type": "code",
   "execution_count": 2,
   "id": "360eb613",
   "metadata": {},
   "outputs": [
    {
     "name": "stdout",
     "output_type": "stream",
     "text": [
      "Hello nGbenga 2\n"
     ]
    }
   ],
   "source": [
    "print('Hello nGbenga 2')"
   ]
  },
  {
   "cell_type": "code",
   "execution_count": 4,
   "id": "1e481e28",
   "metadata": {},
   "outputs": [
    {
     "name": "stdout",
     "output_type": "stream",
     "text": [
      "Hello Gbenga\n"
     ]
    }
   ],
   "source": [
    "print('Hello Gbenga')"
   ]
  },
  {
   "cell_type": "markdown",
   "id": "04514445",
   "metadata": {},
   "source": [
    "print(\"Gbenga\")"
   ]
  },
  {
   "cell_type": "code",
   "execution_count": null,
   "id": "0b795f02",
   "metadata": {},
   "outputs": [],
   "source": []
  }
 ],
 "metadata": {
  "kernelspec": {
   "display_name": "Python 3 (ipykernel)",
   "language": "python",
   "name": "python3"
  },
  "language_info": {
   "codemirror_mode": {
    "name": "ipython",
    "version": 3
   },
   "file_extension": ".py",
   "mimetype": "text/x-python",
   "name": "python",
   "nbconvert_exporter": "python",
   "pygments_lexer": "ipython3",
   "version": "3.9.7"
  }
 },
 "nbformat": 4,
 "nbformat_minor": 5
}
